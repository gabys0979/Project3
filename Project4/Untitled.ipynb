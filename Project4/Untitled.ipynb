{
 "cells": [
  {
   "cell_type": "code",
   "execution_count": 1,
   "id": "f0ad6e1d",
   "metadata": {},
   "outputs": [],
   "source": [
    "# Import dependencies\n",
    "import pandas as pd"
   ]
  },
  {
   "cell_type": "markdown",
   "id": "d6b8678f",
   "metadata": {},
   "source": [
    "misc_22 = pd.read_csv(\"Misc_data/misc_2022.csv\")\n",
    "misc_21 = pd.read_csv(\"Misc_data/misc_2021.csv\")\n",
    "misc_19 = pd.read_csv(\"Misc_data/misc_2019.csv\")\n",
    "misc_18 = pd.read_csv(\"Misc_data/misc_2018.csv\")\n",
    "misc_17 = pd.read_csv(\"Misc_data/misc_2017.csv\")\n",
    "misc_16 = pd.read_csv(\"Misc_data/misc_2016.csv\")\n",
    "misc_15 = pd.read_csv(\"Misc_data/misc_2015.csv\")\n",
    "\n",
    "misc = [misc_15,misc_16,misc_17,misc_18,misc_19,misc_21,misc_22]"
   ]
  },
  {
   "cell_type": "code",
   "execution_count": null,
   "id": "eef42901",
   "metadata": {},
   "outputs": [],
   "source": [
    "misc_22 = pd.read_csv(\"Misc_data/misc_2022.csv\") \n",
    "misc_21 = pd.read_csv(\"Misc_data/misc_2021.csv\") \n",
    "misc_19 = pd.read_csv(\"Misc_data/misc_2019.csv\") \n",
    "misc_18 = pd.read_csv(\"Misc_data/misc_2018.csv\") \n",
    "misc_17 = pd.read_csv(\"Misc_data/misc_2017.csv\") \n",
    "misc_16 = pd.read_csv(\"Misc_data/misc_2016.csv\") \n",
    "misc_15 = pd.read_csv(\"Misc_data/misc_2015.csv\")\n",
    "\n",
    "misc = [misc_15,misc_16,misc_17,misc_18,misc_19,misc_21,misc_22]\n"
   ]
  }
 ],
 "metadata": {
  "kernelspec": {
   "display_name": "Python 3 (ipykernel)",
   "language": "python",
   "name": "python3"
  },
  "language_info": {
   "codemirror_mode": {
    "name": "ipython",
    "version": 3
   },
   "file_extension": ".py",
   "mimetype": "text/x-python",
   "name": "python",
   "nbconvert_exporter": "python",
   "pygments_lexer": "ipython3",
   "version": "3.10.9"
  }
 },
 "nbformat": 4,
 "nbformat_minor": 5
}
